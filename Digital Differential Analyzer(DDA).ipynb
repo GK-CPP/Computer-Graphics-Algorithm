{
 "cells": [
  {
   "cell_type": "code",
   "execution_count": 1,
   "metadata": {},
   "outputs": [],
   "source": [
    "import numpy as np\n",
    "import matplotlib.pyplot as plt\n",
    "import math"
   ]
  },
  {
   "cell_type": "markdown",
   "metadata": {},
   "source": [
    "Test Case:\n",
    "\n",
    "i) (2,3) (6,15)\n",
    "\n",
    "ii) (35,40) (43,45)\n",
    "\n",
    "iii) (1,1) (6,7)\n",
    "\n",
    "iv) (6,15) (2,3)\n",
    "\n",
    "v) (6,7) (1,1)"
   ]
  },
  {
   "cell_type": "code",
   "execution_count": 2,
   "metadata": {},
   "outputs": [
    {
     "name": "stdout",
     "output_type": "stream",
     "text": [
      "2\n"
     ]
    }
   ],
   "source": [
    "n=int(input())  #number of test cases"
   ]
  },
  {
   "cell_type": "code",
   "execution_count": 3,
   "metadata": {},
   "outputs": [
    {
     "name": "stdout",
     "output_type": "stream",
     "text": [
      "1st cordinate x, y:\n",
      "2\n",
      "3\n",
      "2nd cordinate x, y:\n",
      "6\n",
      "15\n",
      "step-------cordinate-------next cordinate\n",
      "|  0  |  2.0   3.0  |  2.3333333333333335   4.0  |\n",
      "|  1  |  2.3333333333333335   4.0  |  2.666666666666667   5.0  |\n",
      "|  2  |  2.666666666666667   5.0  |  3.0000000000000004   6.0  |\n",
      "|  3  |  3.0000000000000004   6.0  |  3.333333333333334   7.0  |\n",
      "|  4  |  3.333333333333334   7.0  |  3.6666666666666674   8.0  |\n",
      "|  5  |  3.6666666666666674   8.0  |  4.000000000000001   9.0  |\n",
      "|  6  |  4.000000000000001   9.0  |  4.333333333333334   10.0  |\n",
      "|  7  |  4.333333333333334   10.0  |  4.666666666666667   11.0  |\n",
      "|  8  |  4.666666666666667   11.0  |  5.0   12.0  |\n",
      "|  9  |  5.0   12.0  |  5.333333333333333   13.0  |\n",
      "|  10  |  5.333333333333333   13.0  |  5.666666666666666   14.0  |\n",
      "|  11  |  5.666666666666666   14.0  |  5.999999999999999   15.0  |\n"
     ]
    },
    {
     "data": {
      "image/png": "[encoded data removed]",
      "text/plain": [
       "<Figure size 432x288 with 1 Axes>"
      ]
     },
     "metadata": {
      "needs_background": "light"
     },
     "output_type": "display_data"
    },
    {
     "name": "stdout",
     "output_type": "stream",
     "text": [
      "1st cordinate x, y:\n",
      "35\n",
      "40\n",
      "2nd cordinate x, y:\n",
      "43\n",
      "45\n",
      "step-------cordinate-------next cordinate\n",
      "|  0  |  35.0   40.0  |  36.0   40.625  |\n",
      "|  1  |  36.0   40.625  |  37.0   41.25  |\n",
      "|  2  |  37.0   41.25  |  38.0   41.875  |\n",
      "|  3  |  38.0   41.875  |  39.0   42.5  |\n",
      "|  4  |  39.0   42.5  |  40.0   43.125  |\n",
      "|  5  |  40.0   43.125  |  41.0   43.75  |\n",
      "|  6  |  41.0   43.75  |  42.0   44.375  |\n",
      "|  7  |  42.0   44.375  |  43.0   45.0  |\n"
     ]
    },
    {
     "data": {
      "image/png": "[encoded data removed]",
      "text/plain": [
       "<Figure size 432x288 with 1 Axes>"
      ]
     },
     "metadata": {
      "needs_background": "light"
     },
     "output_type": "display_data"
    }
   ],
   "source": [
    "for f in range(n):\n",
    "    print(\"1st cordinate x, y:\")\n",
    "    x1=float(input())\n",
    "    y1=float(input())\n",
    "    print(\"2nd cordinate x, y:\")\n",
    "    x2=float(input()) \n",
    "    y2=float(input()) \n",
    "    \n",
    "    m=(abs(y2-y1))/(abs(x2-x1)) #slope\n",
    "    \n",
    "    m2=m\n",
    "    d1=x1\n",
    "    d2=y1\n",
    "    ff=1\n",
    "    \n",
    "    if(m2<1):\n",
    "        siz=(int)(abs(x2-x1))\n",
    "    else:\n",
    "        siz=(int)(abs(y2-y1))\n",
    "    if(x1>x2):\n",
    "        m=-1*m\n",
    "        ff=-1\n",
    "        \n",
    "    XX=[]\n",
    "    YY=[]\n",
    "    print(\"step-------cordinate-------next cordinate\")\n",
    "    for i in range(0,siz):\n",
    "        if(m2<1):\n",
    "            print(\"| \",i,\" | \",d1,\" \",d2,\" | \",d1+ff,\" \",d2+m,\" |\");\n",
    "            d1=d1+ff\n",
    "            d2=d2+m\n",
    "            XX.append(d1)\n",
    "            YY.append(d2)\n",
    "        else:\n",
    "            print(\"| \",i,\" | \",d1,\" \",d2,\" | \",d1+(1/m),\" \",d2+ff,\" |\");\n",
    "            d1=d1+(1/m);\n",
    "            d2=d2+ff\n",
    "            XX.append(d1)\n",
    "            YY.append(d2)\n",
    "    \n",
    "    plt.scatter(XX, YY, color='r')\n",
    "    plt.plot(XX, YY, color='b')\n",
    "    plt.show()\n"
   ]
  }
 ],
 "metadata": {
  "kernelspec": {
   "display_name": "Python 3",
   "language": "python",
   "name": "python3"
  },
  "language_info": {
   "codemirror_mode": {
    "name": "ipython",
    "version": 3
   },
   "file_extension": ".py",
   "mimetype": "text/x-python",
   "name": "python",
   "nbconvert_exporter": "python",
   "pygments_lexer": "ipython3",
   "version": "3.7.3"
  }
 },
 "nbformat": 4,
 "nbformat_minor": 2
}
